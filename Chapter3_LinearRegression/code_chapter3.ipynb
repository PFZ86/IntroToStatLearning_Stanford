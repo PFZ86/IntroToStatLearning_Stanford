{
 "cells": [
  {
   "cell_type": "code",
   "execution_count": 20,
   "metadata": {},
   "outputs": [],
   "source": [
    "import numpy as np\n",
    "import pandas as pd\n",
    "import statsmodels.api as sm\n",
    "import statsmodels.formula.api as smf\n",
    "from sklearn import linear_model\n",
    "import matplotlib.pyplot as plt"
   ]
  },
  {
   "cell_type": "code",
   "execution_count": 2,
   "metadata": {},
   "outputs": [
    {
     "name": "stdout",
     "output_type": "stream",
     "text": [
      "      crim    zn  indus  chas    nox     rm   age     dis  rad  tax  ptratio  \\\n",
      "0  0.00632  18.0   2.31     0  0.538  6.575  65.2  4.0900    1  296     15.3   \n",
      "1  0.02731   0.0   7.07     0  0.469  6.421  78.9  4.9671    2  242     17.8   \n",
      "2  0.02729   0.0   7.07     0  0.469  7.185  61.1  4.9671    2  242     17.8   \n",
      "3  0.03237   0.0   2.18     0  0.458  6.998  45.8  6.0622    3  222     18.7   \n",
      "4  0.06905   0.0   2.18     0  0.458  7.147  54.2  6.0622    3  222     18.7   \n",
      "\n",
      "    black  lstat  medv  \n",
      "0  396.90   4.98  24.0  \n",
      "1  396.90   9.14  21.6  \n",
      "2  392.83   4.03  34.7  \n",
      "3  394.63   2.94  33.4  \n",
      "4  396.90   5.33  36.2  \n"
     ]
    }
   ],
   "source": [
    "boston_df = pd.read_csv('../Data/Boston.csv')\n",
    "print (boston_df.head())"
   ]
  },
  {
   "cell_type": "markdown",
   "metadata": {},
   "source": [
    "#### Python regression with Boston housing data.\n",
    "#### https://towardsdatascience.com/simple-and-multiple-linear-regression-in-python-c928425168f9"
   ]
  },
  {
   "cell_type": "code",
   "execution_count": 5,
   "metadata": {},
   "outputs": [
    {
     "name": "stdout",
     "output_type": "stream",
     "text": [
      "\n",
      "statsmodels\n",
      "                            OLS Regression Results                            \n",
      "==============================================================================\n",
      "Dep. Variable:                   medv   R-squared:                       0.484\n",
      "Model:                            OLS   Adj. R-squared:                  0.483\n",
      "Method:                 Least Squares   F-statistic:                     471.8\n",
      "Date:                Wed, 17 Oct 2018   Prob (F-statistic):           2.49e-74\n",
      "Time:                        19:43:25   Log-Likelihood:                -1673.1\n",
      "No. Observations:                 506   AIC:                             3350.\n",
      "Df Residuals:                     504   BIC:                             3359.\n",
      "Df Model:                           1                                         \n",
      "Covariance Type:            nonrobust                                         \n",
      "==============================================================================\n",
      "                 coef    std err          t      P>|t|      [0.025      0.975]\n",
      "------------------------------------------------------------------------------\n",
      "const        -34.6706      2.650    -13.084      0.000     -39.877     -29.465\n",
      "rm             9.1021      0.419     21.722      0.000       8.279       9.925\n",
      "==============================================================================\n",
      "Omnibus:                      102.585   Durbin-Watson:                   0.684\n",
      "Prob(Omnibus):                  0.000   Jarque-Bera (JB):              612.449\n",
      "Skew:                           0.726   Prob(JB):                    1.02e-133\n",
      "Kurtosis:                       8.190   Cond. No.                         58.4\n",
      "==============================================================================\n",
      "\n",
      "Warnings:\n",
      "[1] Standard Errors assume that the covariance matrix of the errors is correctly specified.\n",
      "0    25.175746\n",
      "1    23.774021\n",
      "2    30.728032\n",
      "3    29.025938\n",
      "4    30.382152\n",
      "dtype: float64\n",
      "\n",
      "sklearn\n",
      "R2=0.4835254559913343\n",
      "intercept=[-34.67062078],slope=[9.10210898]\n",
      "[[25.17574577]\n",
      " [23.77402099]\n",
      " [30.72803225]\n",
      " [29.02593787]\n",
      " [30.38215211]]\n"
     ]
    }
   ],
   "source": [
    "### medv ~ rm using statsmodel\n",
    "x = pd.DataFrame(boston_df['rm'])\n",
    "x = sm.add_constant(x)\n",
    "y = pd.DataFrame(boston_df['medv'])\n",
    "sm_mod0 = sm.OLS(y,x)\n",
    "sm_fit0 = sm_mod0.fit()\n",
    "sm_pred0 = sm_fit0.predict(x)\n",
    "\n",
    "### medv ~ rm using sklearn\n",
    "x = pd.DataFrame(boston_df['rm'])\n",
    "y = pd.DataFrame(boston_df['medv'])\n",
    "sk_mod0 = linear_model.LinearRegression()\n",
    "sk_fit0 = sk_mod0.fit(x,y)\n",
    "sk_pred0 = sk_mod0.predict(x)\n",
    "\n",
    "print ('\\nstatsmodels')\n",
    "print (sm_fit0.summary())\n",
    "print (sm_pred0[0:5])\n",
    "\n",
    "print ('\\nsklearn')\n",
    "print ('R2={}'.format(sk_mod0.score(x,y)))\n",
    "print ('intercept={},slope={}'.format(sk_mod0.intercept_, sk_mod0.coef_[0]))\n",
    "print (sk_pred0[0:5])"
   ]
  },
  {
   "cell_type": "code",
   "execution_count": 15,
   "metadata": {},
   "outputs": [
    {
     "name": "stdout",
     "output_type": "stream",
     "text": [
      "statsmodels\n",
      "                            OLS Regression Results                            \n",
      "==============================================================================\n",
      "Dep. Variable:                   medv   R-squared:                       0.569\n",
      "Model:                            OLS   Adj. R-squared:                  0.566\n",
      "Method:                 Least Squares   F-statistic:                     220.8\n",
      "Date:                Wed, 17 Oct 2018   Prob (F-statistic):           2.68e-91\n",
      "Time:                        21:10:40   Log-Likelihood:                -1627.4\n",
      "No. Observations:                 506   AIC:                             3263.\n",
      "Df Residuals:                     502   BIC:                             3280.\n",
      "Df Model:                           3                                         \n",
      "Covariance Type:            nonrobust                                         \n",
      "==============================================================================\n",
      "                 coef    std err          t      P>|t|      [0.025      0.975]\n",
      "------------------------------------------------------------------------------\n",
      "const         33.7672      0.570     59.222      0.000      32.647      34.887\n",
      "lstat         -0.9150      0.039    -23.478      0.000      -0.992      -0.838\n",
      "chas           9.8251      2.103      4.672      0.000       5.693      13.957\n",
      "lstat*chas    -0.4329      0.160     -2.703      0.007      -0.748      -0.118\n",
      "==============================================================================\n",
      "Omnibus:                      130.570   Durbin-Watson:                   1.007\n",
      "Prob(Omnibus):                  0.000   Jarque-Bera (JB):              275.834\n",
      "Skew:                           1.383   Prob(JB):                     1.27e-60\n",
      "Kurtosis:                       5.330   Cond. No.                         114.\n",
      "==============================================================================\n",
      "\n",
      "Warnings:\n",
      "[1] Standard Errors assume that the covariance matrix of the errors is correctly specified.\n"
     ]
    },
    {
     "data": {
      "text/plain": [
       "' results from R lm\\n> print (summary(fit1))\\nCall:\\nlm(formula = medv ~ lstat * chas)\\n\\nResiduals:\\n    Min      1Q  Median      3Q     Max \\n-14.657  -3.787  -1.289   1.644  24.953 \\n\\nCoefficients:\\n            Estimate Std. Error t value Pr(>|t|)    \\n(Intercept) 33.76716    0.57018  59.222  < 2e-16 ***\\nlstat       -0.91498    0.03897 -23.478  < 2e-16 ***\\nchas         9.82513    2.10320   4.672 3.84e-06 ***\\nlstat:chas  -0.43288    0.16017  -2.703  0.00711 ** \\n---\\nSignif. codes:  0 ‘***’ 0.001 ‘**’ 0.01 ‘*’ 0.05 ‘.’ 0.1 ‘ ’ 1\\n\\nResidual standard error: 6.057 on 502 degrees of freedom\\nMultiple R-squared:  0.5688,\\tAdjusted R-squared:  0.5663\\n'"
      ]
     },
     "execution_count": 15,
     "metadata": {},
     "output_type": "execute_result"
    }
   ],
   "source": [
    "### medv ~ lstat + chas + lstat*chas\n",
    "x = pd.DataFrame(boston_df[['lstat','chas']])\n",
    "x['lstat*chas'] = x.eval('lstat*chas')\n",
    "x = sm.add_constant(x)\n",
    "y = pd.DataFrame(boston_df['medv'])\n",
    "sm_mod1 = sm.OLS(y,x)\n",
    "sm_fit1 = sm_mod1.fit()\n",
    "sm_pred1 = sm_fit1.predict(x)\n",
    "print ('statsmodels')\n",
    "print (sm_fit1.summary())\n",
    "\n",
    "''' results from R lm\n",
    "> print (summary(fit1))\n",
    "Call:\n",
    "lm(formula = medv ~ lstat * chas)\n",
    "\n",
    "Residuals:\n",
    "    Min      1Q  Median      3Q     Max \n",
    "-14.657  -3.787  -1.289   1.644  24.953 \n",
    "\n",
    "Coefficients:\n",
    "            Estimate Std. Error t value Pr(>|t|)    \n",
    "(Intercept) 33.76716    0.57018  59.222  < 2e-16 ***\n",
    "lstat       -0.91498    0.03897 -23.478  < 2e-16 ***\n",
    "chas         9.82513    2.10320   4.672 3.84e-06 ***\n",
    "lstat:chas  -0.43288    0.16017  -2.703  0.00711 ** \n",
    "---\n",
    "Signif. codes:  0 ‘***’ 0.001 ‘**’ 0.01 ‘*’ 0.05 ‘.’ 0.1 ‘ ’ 1\n",
    "\n",
    "Residual standard error: 6.057 on 502 degrees of freedom\n",
    "Multiple R-squared:  0.5688,\tAdjusted R-squared:  0.5663\n",
    "'''"
   ]
  },
  {
   "cell_type": "code",
   "execution_count": 32,
   "metadata": {
    "scrolled": true
   },
   "outputs": [
    {
     "name": "stdout",
     "output_type": "stream",
     "text": [
      "statsmodels\n",
      "                            OLS Regression Results                            \n",
      "==============================================================================\n",
      "Dep. Variable:                   medv   R-squared:                       0.662\n",
      "Model:                            OLS   Adj. R-squared:                  0.659\n",
      "Method:                 Least Squares   F-statistic:                     196.0\n",
      "Date:                Wed, 17 Oct 2018   Prob (F-statistic):          2.34e-115\n",
      "Time:                        21:27:58   Log-Likelihood:                -1565.6\n",
      "No. Observations:                 506   AIC:                             3143.\n",
      "Df Residuals:                     500   BIC:                             3169.\n",
      "Df Model:                           5                                         \n",
      "Covariance Type:            nonrobust                                         \n",
      "====================================================================================\n",
      "                       coef    std err          t      P>|t|      [0.025      0.975]\n",
      "------------------------------------------------------------------------------------\n",
      "const               41.7933      0.895     46.703      0.000      40.035      43.551\n",
      "lstat               -2.2309      0.126    -17.722      0.000      -2.478      -1.984\n",
      "chas                11.9351      3.024      3.946      0.000       5.993      17.877\n",
      "lstat*lstat          0.0409      0.004     10.871      0.000       0.034       0.048\n",
      "lstat*chas          -1.3121      0.524     -2.502      0.013      -2.343      -0.282\n",
      "lstat*lstat*chas     0.0447      0.019      2.293      0.022       0.006       0.083\n",
      "==============================================================================\n",
      "Omnibus:                      112.009   Durbin-Watson:                   1.033\n",
      "Prob(Omnibus):                  0.000   Jarque-Bera (JB):              268.125\n",
      "Skew:                           1.127   Prob(JB):                     5.99e-59\n",
      "Kurtosis:                       5.763   Cond. No.                     4.08e+03\n",
      "==============================================================================\n",
      "\n",
      "Warnings:\n",
      "[1] Standard Errors assume that the covariance matrix of the errors is correctly specified.\n",
      "[2] The condition number is large, 4.08e+03. This might indicate that there are\n",
      "strong multicollinearity or other numerical problems.\n",
      "0    31.698591\n",
      "1    24.822511\n",
      "2    33.467568\n",
      "3    35.588260\n",
      "4    31.065488\n",
      "dtype: float64\n",
      "statsmodels.formula\n",
      "                            OLS Regression Results                            \n",
      "==============================================================================\n",
      "Dep. Variable:                   medv   R-squared:                       0.662\n",
      "Model:                            OLS   Adj. R-squared:                  0.659\n",
      "Method:                 Least Squares   F-statistic:                     196.0\n",
      "Date:                Wed, 17 Oct 2018   Prob (F-statistic):          2.34e-115\n",
      "Time:                        21:27:58   Log-Likelihood:                -1565.6\n",
      "No. Observations:                 506   AIC:                             3143.\n",
      "Df Residuals:                     500   BIC:                             3169.\n",
      "Df Model:                           5                                         \n",
      "Covariance Type:            nonrobust                                         \n",
      "=========================================================================================\n",
      "                            coef    std err          t      P>|t|      [0.025      0.975]\n",
      "-----------------------------------------------------------------------------------------\n",
      "Intercept                41.7933      0.895     46.703      0.000      40.035      43.551\n",
      "lstat                    -2.2309      0.126    -17.722      0.000      -2.478      -1.984\n",
      "chas                     11.9351      3.024      3.946      0.000       5.993      17.877\n",
      "lstat:chas               -1.3121      0.524     -2.502      0.013      -2.343      -0.282\n",
      "I(lstat * lstat)          0.0409      0.004     10.871      0.000       0.034       0.048\n",
      "I(lstat * lstat):chas     0.0447      0.019      2.293      0.022       0.006       0.083\n",
      "==============================================================================\n",
      "Omnibus:                      112.009   Durbin-Watson:                   1.033\n",
      "Prob(Omnibus):                  0.000   Jarque-Bera (JB):              268.125\n",
      "Skew:                           1.127   Prob(JB):                     5.99e-59\n",
      "Kurtosis:                       5.763   Cond. No.                     4.08e+03\n",
      "==============================================================================\n",
      "\n",
      "Warnings:\n",
      "[1] Standard Errors assume that the covariance matrix of the errors is correctly specified.\n",
      "[2] The condition number is large, 4.08e+03. This might indicate that there are\n",
      "strong multicollinearity or other numerical problems.\n",
      "0    31.698591\n",
      "1    24.822511\n",
      "2    33.467568\n",
      "3    35.588260\n",
      "4    31.065488\n",
      "dtype: float64\n",
      "corr(sm_pred, smf_pred)\n",
      "[[1. 1.]\n",
      " [1. 1.]]\n"
     ]
    },
    {
     "data": {
      "text/plain": [
       "' results from R lm\\n> summary(fit2)\\nCall:\\nlm(formula = medv ~ lstat * chas + I(lstat^2) * chas)\\n\\nResiduals:\\n     Min       1Q   Median       3Q      Max \\n-15.4823  -3.6231  -0.4634   2.3834  25.7495 \\n\\nCoefficients:\\n                 Estimate Std. Error t value Pr(>|t|)    \\n(Intercept)     41.793297   0.894872  46.703  < 2e-16 ***\\nlstat           -2.230905   0.125886 -17.722  < 2e-16 ***\\nchas            11.935120   3.024405   3.946 9.07e-05 ***\\nI(lstat^2)       0.040935   0.003765  10.871  < 2e-16 ***\\nlstat:chas      -1.312077   0.524486  -2.502   0.0127 *  \\nchas:I(lstat^2)  0.044695   0.019488   2.293   0.0222 *  \\n---\\nSignif. codes:  0 ‘***’ 0.001 ‘**’ 0.01 ‘*’ 0.05 ‘.’ 0.1 ‘ ’ 1\\n\\nResidual standard error: 5.372 on 500 degrees of freedom\\nMultiple R-squared:  0.6622,\\tAdjusted R-squared:  0.6588 \\nF-statistic:   196 on 5 and 500 DF,  p-value: < 2.2e-16\\n'"
      ]
     },
     "execution_count": 32,
     "metadata": {},
     "output_type": "execute_result"
    }
   ],
   "source": [
    "### medv ~ lstat + chas + lstat*lstat + lstat*chas + lstat*lstat*chas\n",
    "\n",
    "### use statsmodels.apid\n",
    "x = pd.DataFrame(boston_df[['lstat','chas']])\n",
    "x['lstat*lstat'] = x.eval('lstat*lstat')\n",
    "x['lstat*chas'] = x.eval('lstat*chas')\n",
    "x['lstat*lstat*chas'] = x.eval('lstat*lstat*chas')\n",
    "x = sm.add_constant(x)\n",
    "y = pd.DataFrame(boston_df['medv'])\n",
    "sm_mod2 = sm.OLS(y,x)\n",
    "sm_fit2 = sm_mod2.fit()\n",
    "sm_pred2 = sm_fit2.predict(x)\n",
    "print ('statsmodels')\n",
    "print (sm_fit2.summary())\n",
    "print (sm_pred2[0:5])\n",
    "\n",
    "### use statsmodels.formula.api\n",
    "smf_mod2 = smf.ols(formula = \"medv ~ lstat*chas + I(lstat*lstat)*chas\", data = boston_df)\n",
    "smf_fit2 = smf_mod2.fit()\n",
    "smf_pred2 = smf_fit2.predict(boston_df[['lstat','chas']])\n",
    "print ('statsmodels.formula')\n",
    "print (smf_fit2.summary())\n",
    "print (smf_pred2[0:5])\n",
    "\n",
    "### compare predictions from statsmodels.api and statsmodels.formula.api\n",
    "print ('corr(sm_pred, smf_pred)')\n",
    "print (np.corrcoef(sm_pred2, smf_pred2))\n",
    "\n",
    "''' results from R lm\n",
    "> summary(fit2)\n",
    "Call:\n",
    "lm(formula = medv ~ lstat * chas + I(lstat^2) * chas)\n",
    "\n",
    "Residuals:\n",
    "     Min       1Q   Median       3Q      Max \n",
    "-15.4823  -3.6231  -0.4634   2.3834  25.7495 \n",
    "\n",
    "Coefficients:\n",
    "                 Estimate Std. Error t value Pr(>|t|)    \n",
    "(Intercept)     41.793297   0.894872  46.703  < 2e-16 ***\n",
    "lstat           -2.230905   0.125886 -17.722  < 2e-16 ***\n",
    "chas            11.935120   3.024405   3.946 9.07e-05 ***\n",
    "I(lstat^2)       0.040935   0.003765  10.871  < 2e-16 ***\n",
    "lstat:chas      -1.312077   0.524486  -2.502   0.0127 *  \n",
    "chas:I(lstat^2)  0.044695   0.019488   2.293   0.0222 *  \n",
    "---\n",
    "Signif. codes:  0 ‘***’ 0.001 ‘**’ 0.01 ‘*’ 0.05 ‘.’ 0.1 ‘ ’ 1\n",
    "\n",
    "Residual standard error: 5.372 on 500 degrees of freedom\n",
    "Multiple R-squared:  0.6622,\tAdjusted R-squared:  0.6588 \n",
    "F-statistic:   196 on 5 and 500 DF,  p-value: < 2.2e-16\n",
    "'''"
   ]
  },
  {
   "cell_type": "code",
   "execution_count": 44,
   "metadata": {},
   "outputs": [
    {
     "data": {
      "text/plain": [
       "Text(0.5,1,'medv ~ lstat + chas + lstat*lstat + lstat*chas + lstat*lstat*chas')"
      ]
     },
     "execution_count": 44,
     "metadata": {},
     "output_type": "execute_result"
    },
    {
     "data": {
      "image/png": "[encoded data removed]",
      "text/plain": [
       "<Figure size 432x288 with 2 Axes>"
      ]
     },
     "metadata": {},
     "output_type": "display_data"
    }
   ],
   "source": [
    "color = ['blue' if x == 0 else 'red' for x in boston_df['chas']]\n",
    "fix, ax = plt.subplots(1, 2)\n",
    "ax[0].scatter(boston_df['lstat'], boston_df['medv'], marker='.', color=color)\n",
    "ax[0].scatter(boston_df['lstat'], sm_pred1, marker='d', color=color)\n",
    "ax[0].set_title('medv ~ lstat + chas + lstat*lstat')\n",
    "\n",
    "ax[1].scatter(boston_df['lstat'], boston_df['medv'], marker='.', color=color)\n",
    "ax[1].scatter(boston_df['lstat'], sm_pred2, marker='d', color=color)\n",
    "ax[1].set_title('medv ~ lstat + chas + lstat*lstat + lstat*chas + lstat*lstat*chas')"
   ]
  },
  {
   "cell_type": "markdown",
   "metadata": {},
   "source": [
    "#### Python regression with categorical variables\n",
    "#### 3.3 in http://songhuiming.github.io/pages/2017/01/21/linear-regression-in-python-chapter-3-regression-with-categorical-predictors/"
   ]
  },
  {
   "cell_type": "code",
   "execution_count": 35,
   "metadata": {
    "scrolled": true
   },
   "outputs": [
    {
     "name": "stdout",
     "output_type": "stream",
     "text": [
      "statsmodels.formula\n",
      "                            OLS Regression Results                            \n",
      "==============================================================================\n",
      "Dep. Variable:                   medv   R-squared:                       0.592\n",
      "Model:                            OLS   Adj. R-squared:                  0.578\n",
      "Method:                 Least Squares   F-statistic:                     41.63\n",
      "Date:                Wed, 17 Oct 2018   Prob (F-statistic):           1.39e-83\n",
      "Time:                        21:38:57   Log-Likelihood:                -1613.5\n",
      "No. Observations:                 506   AIC:                             3263.\n",
      "Df Residuals:                     488   BIC:                             3339.\n",
      "Df Model:                          17                                         \n",
      "Covariance Type:            nonrobust                                         \n",
      "======================================================================================\n",
      "                         coef    std err          t      P>|t|      [0.025      0.975]\n",
      "--------------------------------------------------------------------------------------\n",
      "Intercept             39.1899      4.217      9.293      0.000      30.904      47.476\n",
      "C(rad)[T.2]           -3.2837      4.775     -0.688      0.492     -12.665       6.098\n",
      "C(rad)[T.3]           -1.6923      4.620     -0.366      0.714     -10.769       7.385\n",
      "C(rad)[T.4]           -8.8114      4.391     -2.007      0.045     -17.438      -0.185\n",
      "C(rad)[T.5]           -2.9215      4.361     -0.670      0.503     -11.490       5.647\n",
      "C(rad)[T.6]          -14.0131      5.827     -2.405      0.017     -25.462      -2.564\n",
      "C(rad)[T.7]           -2.5461      5.496     -0.463      0.643     -13.345       8.253\n",
      "C(rad)[T.8]            3.9611      4.943      0.801      0.423      -5.750      13.673\n",
      "C(rad)[T.24]          -6.7270      4.476     -1.503      0.134     -15.522       2.068\n",
      "lstat                 -2.0115      0.543     -3.706      0.000      -3.078      -0.945\n",
      "lstat:C(rad)[T.2]      1.1065      0.574      1.927      0.055      -0.022       2.235\n",
      "lstat:C(rad)[T.3]      0.9572      0.571      1.676      0.094      -0.165       2.080\n",
      "lstat:C(rad)[T.4]      1.2745      0.550      2.318      0.021       0.194       2.355\n",
      "lstat:C(rad)[T.5]      1.0205      0.550      1.855      0.064      -0.060       2.101\n",
      "lstat:C(rad)[T.6]      1.6702      0.626      2.667      0.008       0.440       2.901\n",
      "lstat:C(rad)[T.7]      0.8175      0.675      1.210      0.227      -0.510       2.145\n",
      "lstat:C(rad)[T.8]      0.4046      0.613      0.660      0.510      -0.800       1.609\n",
      "lstat:C(rad)[T.24]     1.1482      0.548      2.095      0.037       0.071       2.225\n",
      "==============================================================================\n",
      "Omnibus:                      157.854   Durbin-Watson:                   0.950\n",
      "Prob(Omnibus):                  0.000   Jarque-Bera (JB):              416.723\n",
      "Skew:                           1.549   Prob(JB):                     3.23e-91\n",
      "Kurtosis:                       6.189   Cond. No.                         821.\n",
      "==============================================================================\n",
      "\n",
      "Warnings:\n",
      "[1] Standard Errors assume that the covariance matrix of the errors is correctly specified.\n"
     ]
    },
    {
     "data": {
      "text/plain": [
       "' results from R lm\\nCall:\\nlm(formula = medv ~ lstat * as.factor(rad))\\n\\nResiduals:\\n    Min      1Q  Median      3Q     Max \\n-11.439  -3.460  -1.111   1.633  25.765 \\n\\nCoefficients:\\n                       Estimate Std. Error t value Pr(>|t|)    \\n(Intercept)             39.1899     4.2173   9.293  < 2e-16 ***\\nlstat                   -2.0115     0.5427  -3.706 0.000234 ***\\nas.factor(rad)2         -3.2837     4.7747  -0.688 0.491945    \\nas.factor(rad)3         -1.6923     4.6198  -0.366 0.714285    \\nas.factor(rad)4         -8.8114     4.3905  -2.007 0.045308 *  \\nas.factor(rad)5         -2.9215     4.3610  -0.670 0.503235    \\nas.factor(rad)6        -14.0131     5.8270  -2.405 0.016550 *  \\nas.factor(rad)7         -2.5461     5.4961  -0.463 0.643384    \\nas.factor(rad)8          3.9611     4.9426   0.801 0.423276    \\nas.factor(rad)24        -6.7270     4.4760  -1.503 0.133508    \\nlstat:as.factor(rad)2    1.1065     0.5741   1.927 0.054533 .  \\nlstat:as.factor(rad)3    0.9572     0.5712   1.676 0.094433 .  \\nlstat:as.factor(rad)4    1.2745     0.5499   2.318 0.020881 *  \\nlstat:as.factor(rad)5    1.0205     0.5502   1.855 0.064210 .  \\nlstat:as.factor(rad)6    1.6702     0.6263   2.667 0.007911 ** \\nlstat:as.factor(rad)7    0.8175     0.6755   1.210 0.226760    \\nlstat:as.factor(rad)8    0.4046     0.6131   0.660 0.509658    \\nlstat:as.factor(rad)24   1.1482     0.5480   2.095 0.036660 *  \\n---\\nSignif. codes:  0 ‘***’ 0.001 ‘**’ 0.01 ‘*’ 0.05 ‘.’ 0.1 ‘ ’ 1\\n\\nResidual standard error: 5.977 on 488 degrees of freedom\\nMultiple R-squared:  0.5919,\\tAdjusted R-squared:  0.5777 \\nF-statistic: 41.63 on 17 and 488 DF,  p-value: < 2.2e-16\\n'"
      ]
     },
     "execution_count": 35,
     "metadata": {},
     "output_type": "execute_result"
    }
   ],
   "source": [
    "### medv ~ lstat*as.factor(rad)\n",
    "\n",
    "### use statsmodels.formula.api\n",
    "smf_mod3 = smf.ols(formula = \"medv ~ lstat*C(rad)\", data = boston_df)\n",
    "smf_fit3 = smf_mod3.fit()\n",
    "smf_pred3 = smf_fit3.predict(boston_df[['lstat','rad']])\n",
    "print ('statsmodels.formula')\n",
    "print (smf_fit3.summary())\n",
    "\n",
    "''' results from R lm\n",
    "Call:\n",
    "lm(formula = medv ~ lstat * as.factor(rad))\n",
    "\n",
    "Residuals:\n",
    "    Min      1Q  Median      3Q     Max \n",
    "-11.439  -3.460  -1.111   1.633  25.765 \n",
    "\n",
    "Coefficients:\n",
    "                       Estimate Std. Error t value Pr(>|t|)    \n",
    "(Intercept)             39.1899     4.2173   9.293  < 2e-16 ***\n",
    "lstat                   -2.0115     0.5427  -3.706 0.000234 ***\n",
    "as.factor(rad)2         -3.2837     4.7747  -0.688 0.491945    \n",
    "as.factor(rad)3         -1.6923     4.6198  -0.366 0.714285    \n",
    "as.factor(rad)4         -8.8114     4.3905  -2.007 0.045308 *  \n",
    "as.factor(rad)5         -2.9215     4.3610  -0.670 0.503235    \n",
    "as.factor(rad)6        -14.0131     5.8270  -2.405 0.016550 *  \n",
    "as.factor(rad)7         -2.5461     5.4961  -0.463 0.643384    \n",
    "as.factor(rad)8          3.9611     4.9426   0.801 0.423276    \n",
    "as.factor(rad)24        -6.7270     4.4760  -1.503 0.133508    \n",
    "lstat:as.factor(rad)2    1.1065     0.5741   1.927 0.054533 .  \n",
    "lstat:as.factor(rad)3    0.9572     0.5712   1.676 0.094433 .  \n",
    "lstat:as.factor(rad)4    1.2745     0.5499   2.318 0.020881 *  \n",
    "lstat:as.factor(rad)5    1.0205     0.5502   1.855 0.064210 .  \n",
    "lstat:as.factor(rad)6    1.6702     0.6263   2.667 0.007911 ** \n",
    "lstat:as.factor(rad)7    0.8175     0.6755   1.210 0.226760    \n",
    "lstat:as.factor(rad)8    0.4046     0.6131   0.660 0.509658    \n",
    "lstat:as.factor(rad)24   1.1482     0.5480   2.095 0.036660 *  \n",
    "---\n",
    "Signif. codes:  0 ‘***’ 0.001 ‘**’ 0.01 ‘*’ 0.05 ‘.’ 0.1 ‘ ’ 1\n",
    "\n",
    "Residual standard error: 5.977 on 488 degrees of freedom\n",
    "Multiple R-squared:  0.5919,\tAdjusted R-squared:  0.5777 \n",
    "F-statistic: 41.63 on 17 and 488 DF,  p-value: < 2.2e-16\n",
    "'''"
   ]
  },
  {
   "cell_type": "code",
   "execution_count": 46,
   "metadata": {
    "scrolled": false
   },
   "outputs": [
    {
     "name": "stdout",
     "output_type": "stream",
     "text": [
      "statsmodels.formula\n",
      "                            OLS Regression Results                            \n",
      "==============================================================================\n",
      "Dep. Variable:                   medv   R-squared:                       0.704\n",
      "Model:                            OLS   Adj. R-squared:                  0.688\n",
      "Method:                 Least Squares   F-statistic:                     43.81\n",
      "Date:                Wed, 17 Oct 2018   Prob (F-statistic):          3.74e-109\n",
      "Time:                        21:54:57   Log-Likelihood:                -1532.3\n",
      "No. Observations:                 506   AIC:                             3119.\n",
      "Df Residuals:                     479   BIC:                             3233.\n",
      "Df Model:                          26                                         \n",
      "Covariance Type:            nonrobust                                         \n",
      "=================================================================================================\n",
      "                                    coef    std err          t      P>|t|      [0.025      0.975]\n",
      "-------------------------------------------------------------------------------------------------\n",
      "Intercept                        67.9323      9.708      6.998      0.000      48.857      87.007\n",
      "C(rad)[T.2]                     -23.1397     10.398     -2.225      0.027     -43.572      -2.708\n",
      "C(rad)[T.3]                     -24.6223     10.068     -2.446      0.015     -44.406      -4.839\n",
      "C(rad)[T.4]                     -29.6985      9.885     -3.004      0.003     -49.123     -10.274\n",
      "C(rad)[T.5]                     -21.2893      9.861     -2.159      0.031     -40.665      -1.913\n",
      "C(rad)[T.6]                     -38.7711     12.995     -2.984      0.003     -64.305     -13.237\n",
      "C(rad)[T.7]                     -27.1283     11.473     -2.365      0.018     -49.671      -4.586\n",
      "C(rad)[T.8]                     -12.5478     10.494     -1.196      0.232     -33.167       8.072\n",
      "C(rad)[T.24]                    -17.3866     10.051     -1.730      0.084     -37.135       2.362\n",
      "lstat                            -9.8835      2.510     -3.937      0.000     -14.816      -4.951\n",
      "lstat:C(rad)[T.2]                 7.1865      2.596      2.768      0.006       2.085      12.288\n",
      "lstat:C(rad)[T.3]                 7.6720      2.550      3.009      0.003       2.661      12.683\n",
      "lstat:C(rad)[T.4]                 7.8145      2.525      3.095      0.002       2.853      12.776\n",
      "lstat:C(rad)[T.5]                 7.0106      2.525      2.777      0.006       2.049      11.972\n",
      "lstat:C(rad)[T.6]                 8.8409      2.883      3.066      0.002       3.175      14.507\n",
      "lstat:C(rad)[T.7]                 7.6993      2.832      2.719      0.007       2.135      13.263\n",
      "lstat:C(rad)[T.8]                 5.3033      2.647      2.003      0.046       0.101      10.505\n",
      "lstat:C(rad)[T.24]                6.9463      2.524      2.752      0.006       1.986      11.906\n",
      "I(lstat * lstat)                  0.4848      0.152      3.192      0.002       0.186       0.783\n",
      "I(lstat * lstat):C(rad)[T.2]     -0.4213      0.154     -2.743      0.006      -0.723      -0.120\n",
      "I(lstat * lstat):C(rad)[T.3]     -0.4429      0.153     -2.901      0.004      -0.743      -0.143\n",
      "I(lstat * lstat):C(rad)[T.4]     -0.4407      0.152     -2.897      0.004      -0.740      -0.142\n",
      "I(lstat * lstat):C(rad)[T.5]     -0.4210      0.152     -2.767      0.006      -0.720      -0.122\n",
      "I(lstat * lstat):C(rad)[T.6]     -0.4568      0.162     -2.823      0.005      -0.775      -0.139\n",
      "I(lstat * lstat):C(rad)[T.7]     -0.4360      0.164     -2.656      0.008      -0.759      -0.113\n",
      "I(lstat * lstat):C(rad)[T.8]     -0.3448      0.157     -2.202      0.028      -0.652      -0.037\n",
      "I(lstat * lstat):C(rad)[T.24]    -0.4327      0.152     -2.846      0.005      -0.731      -0.134\n",
      "==============================================================================\n",
      "Omnibus:                      108.786   Durbin-Watson:                   1.093\n",
      "Prob(Omnibus):                  0.000   Jarque-Bera (JB):              262.157\n",
      "Skew:                           1.093   Prob(JB):                     1.18e-57\n",
      "Kurtosis:                       5.767   Cond. No.                     5.10e+04\n",
      "==============================================================================\n",
      "\n",
      "Warnings:\n",
      "[1] Standard Errors assume that the covariance matrix of the errors is correctly specified.\n",
      "[2] The condition number is large, 5.1e+04. This might indicate that there are\n",
      "strong multicollinearity or other numerical problems.\n"
     ]
    },
    {
     "data": {
      "text/plain": [
       "' results from R lm\\nCall:\\nlm(formula = medv ~ lstat * as.factor(rad) + I(lstat^2) * as.factor(rad))\\n\\nResiduals:\\n     Min       1Q   Median       3Q      Max \\n-14.5662  -3.1799  -0.4477   2.2109  22.7136 \\n\\nCoefficients:\\n                            Estimate Std. Error t value Pr(>|t|)    \\n(Intercept)                  67.9323     9.7076   6.998 8.81e-12 ***\\nlstat                        -9.8835     2.5101  -3.937 9.46e-05 ***\\nas.factor(rad)2             -23.1397    10.3984  -2.225  0.02652 *  \\nas.factor(rad)3             -24.6223    10.0682  -2.446  0.01482 *  \\nas.factor(rad)4             -29.6985     9.8854  -3.004  0.00280 ** \\nas.factor(rad)5             -21.2893     9.8609  -2.159  0.03135 *  \\nas.factor(rad)6             -38.7711    12.9950  -2.984  0.00299 ** \\nas.factor(rad)7             -27.1283    11.4725  -2.365  0.01845 *  \\nas.factor(rad)8             -12.5478    10.4938  -1.196  0.23239    \\nas.factor(rad)24            -17.3866    10.0506  -1.730  0.08429 .  \\nI(lstat^2)                    0.4848     0.1519   3.192  0.00151 ** \\nlstat:as.factor(rad)2         7.1865     2.5963   2.768  0.00586 ** \\nlstat:as.factor(rad)3         7.6720     2.5500   3.009  0.00276 ** \\nlstat:as.factor(rad)4         7.8145     2.5248   3.095  0.00208 ** \\nlstat:as.factor(rad)5         7.0106     2.5249   2.777  0.00571 ** \\nlstat:as.factor(rad)6         8.8409     2.8835   3.066  0.00229 ** \\nlstat:as.factor(rad)7         7.6993     2.8316   2.719  0.00678 ** \\nlstat:as.factor(rad)8         5.3033     2.6474   2.003  0.04572 *  \\nlstat:as.factor(rad)24        6.9463     2.5243   2.752  0.00615 ** \\nas.factor(rad)2:I(lstat^2)   -0.4213     0.1536  -2.743  0.00632 ** \\nas.factor(rad)3:I(lstat^2)   -0.4429     0.1527  -2.901  0.00389 ** \\nas.factor(rad)4:I(lstat^2)   -0.4407     0.1521  -2.897  0.00394 ** \\nas.factor(rad)5:I(lstat^2)   -0.4210     0.1522  -2.767  0.00587 ** \\nas.factor(rad)6:I(lstat^2)   -0.4568     0.1618  -2.823  0.00496 ** \\nas.factor(rad)7:I(lstat^2)   -0.4360     0.1642  -2.656  0.00818 ** \\nas.factor(rad)8:I(lstat^2)   -0.3448     0.1566  -2.202  0.02812 *  \\nas.factor(rad)24:I(lstat^2)  -0.4327     0.1520  -2.846  0.00462 ** \\n---\\nSignif. codes:  0 ‘***’ 0.001 ‘**’ 0.01 ‘*’ 0.05 ‘.’ 0.1 ‘ ’ 1\\n\\nResidual standard error: 5.138 on 479 degrees of freedom\\nMultiple R-squared:  0.704,\\tAdjusted R-squared:  0.6879 \\nF-statistic: 43.81 on 26 and 479 DF,  p-value: < 2.2e-16\\n'"
      ]
     },
     "execution_count": 46,
     "metadata": {},
     "output_type": "execute_result"
    }
   ],
   "source": [
    "### medv ~ lstat*as.factor(rad) + lstat*lstat*as.factor(rad)\n",
    "\n",
    "### use statsmodels.formula.api\n",
    "smf_mod4 = smf.ols(formula = \"medv ~ lstat*C(rad) + I(lstat*lstat)*C(rad)\", data = boston_df)\n",
    "smf_fit4 = smf_mod4.fit()\n",
    "smf_pred4 = smf_fit4.predict(boston_df[['lstat','rad']])\n",
    "print ('statsmodels.formula')\n",
    "print (smf_fit4.summary())\n",
    "\n",
    "''' results from R lm\n",
    "Call:\n",
    "lm(formula = medv ~ lstat * as.factor(rad) + I(lstat^2) * as.factor(rad))\n",
    "\n",
    "Residuals:\n",
    "     Min       1Q   Median       3Q      Max \n",
    "-14.5662  -3.1799  -0.4477   2.2109  22.7136 \n",
    "\n",
    "Coefficients:\n",
    "                            Estimate Std. Error t value Pr(>|t|)    \n",
    "(Intercept)                  67.9323     9.7076   6.998 8.81e-12 ***\n",
    "lstat                        -9.8835     2.5101  -3.937 9.46e-05 ***\n",
    "as.factor(rad)2             -23.1397    10.3984  -2.225  0.02652 *  \n",
    "as.factor(rad)3             -24.6223    10.0682  -2.446  0.01482 *  \n",
    "as.factor(rad)4             -29.6985     9.8854  -3.004  0.00280 ** \n",
    "as.factor(rad)5             -21.2893     9.8609  -2.159  0.03135 *  \n",
    "as.factor(rad)6             -38.7711    12.9950  -2.984  0.00299 ** \n",
    "as.factor(rad)7             -27.1283    11.4725  -2.365  0.01845 *  \n",
    "as.factor(rad)8             -12.5478    10.4938  -1.196  0.23239    \n",
    "as.factor(rad)24            -17.3866    10.0506  -1.730  0.08429 .  \n",
    "I(lstat^2)                    0.4848     0.1519   3.192  0.00151 ** \n",
    "lstat:as.factor(rad)2         7.1865     2.5963   2.768  0.00586 ** \n",
    "lstat:as.factor(rad)3         7.6720     2.5500   3.009  0.00276 ** \n",
    "lstat:as.factor(rad)4         7.8145     2.5248   3.095  0.00208 ** \n",
    "lstat:as.factor(rad)5         7.0106     2.5249   2.777  0.00571 ** \n",
    "lstat:as.factor(rad)6         8.8409     2.8835   3.066  0.00229 ** \n",
    "lstat:as.factor(rad)7         7.6993     2.8316   2.719  0.00678 ** \n",
    "lstat:as.factor(rad)8         5.3033     2.6474   2.003  0.04572 *  \n",
    "lstat:as.factor(rad)24        6.9463     2.5243   2.752  0.00615 ** \n",
    "as.factor(rad)2:I(lstat^2)   -0.4213     0.1536  -2.743  0.00632 ** \n",
    "as.factor(rad)3:I(lstat^2)   -0.4429     0.1527  -2.901  0.00389 ** \n",
    "as.factor(rad)4:I(lstat^2)   -0.4407     0.1521  -2.897  0.00394 ** \n",
    "as.factor(rad)5:I(lstat^2)   -0.4210     0.1522  -2.767  0.00587 ** \n",
    "as.factor(rad)6:I(lstat^2)   -0.4568     0.1618  -2.823  0.00496 ** \n",
    "as.factor(rad)7:I(lstat^2)   -0.4360     0.1642  -2.656  0.00818 ** \n",
    "as.factor(rad)8:I(lstat^2)   -0.3448     0.1566  -2.202  0.02812 *  \n",
    "as.factor(rad)24:I(lstat^2)  -0.4327     0.1520  -2.846  0.00462 ** \n",
    "---\n",
    "Signif. codes:  0 ‘***’ 0.001 ‘**’ 0.01 ‘*’ 0.05 ‘.’ 0.1 ‘ ’ 1\n",
    "\n",
    "Residual standard error: 5.138 on 479 degrees of freedom\n",
    "Multiple R-squared:  0.704,\tAdjusted R-squared:  0.6879 \n",
    "F-statistic: 43.81 on 26 and 479 DF,  p-value: < 2.2e-16\n",
    "'''"
   ]
  },
  {
   "cell_type": "code",
   "execution_count": 47,
   "metadata": {},
   "outputs": [
    {
     "data": {
      "text/plain": [
       "Text(0.5,1,'medv ~ lstat*C(rad) + I(lstat^2)*C(rad)')"
      ]
     },
     "execution_count": 47,
     "metadata": {},
     "output_type": "execute_result"
    },
    {
     "data": {
      "image/png": "[encoded data removed]",
      "text/plain": [
       "<Figure size 432x288 with 4 Axes>"
      ]
     },
     "metadata": {},
     "output_type": "display_data"
    }
   ],
   "source": [
    "color_dict = {0:'C0', 1:'C1', 2:'C2', 3:'C3', 4:'C4', 5:'C5', 6:'C6', 7:'C7', 8:'C8', 24:'C9'}\n",
    "color_chas = ['blue' if x == 0 else 'red' for x in boston_df['chas']]\n",
    "color_rad = [color_dict[x] for x in boston_df['rad']]\n",
    "\n",
    "fig, ax = plt.subplots(2,2)\n",
    "ax[0,0].scatter(boston_df['lstat'], boston_df['medv'], marker='.')\n",
    "ax[0,0].scatter(boston_df['lstat'], sm_pred1, marker='o', color=color_chas)\n",
    "ax[0,0].set_title('medv ~ lstat*chas')\n",
    "\n",
    "ax[0,1].scatter(boston_df['lstat'], boston_df['medv'], marker='.')\n",
    "ax[0,1].scatter(boston_df['lstat'], sm_pred2, marker='o', color=color_chas)\n",
    "ax[0,1].set_title('medv ~ lstat*chas + I(lstat^2)*chas')\n",
    "\n",
    "ax[1,0].scatter(boston_df['lstat'], boston_df['medv'], marker='.')\n",
    "ax[1,0].scatter(boston_df['lstat'], smf_pred3, marker='d', color=color_rad)\n",
    "ax[1,0].set_title('medv ~ lstat*C(rad)')\n",
    "\n",
    "ax[1,1].scatter(boston_df['lstat'], boston_df['medv'], marker='.')\n",
    "ax[1,1].scatter(boston_df['lstat'], smf_pred4, marker='o', color=color_rad)\n",
    "ax[1,1].set_title('medv ~ lstat*C(rad) + I(lstat^2)*C(rad)')"
   ]
  }
 ],
 "metadata": {
  "kernelspec": {
   "display_name": "Python 3",
   "language": "python",
   "name": "python3"
  },
  "language_info": {
   "codemirror_mode": {
    "name": "ipython",
    "version": 3
   },
   "file_extension": ".py",
   "mimetype": "text/x-python",
   "name": "python",
   "nbconvert_exporter": "python",
   "pygments_lexer": "ipython3",
   "version": "3.6.5"
  }
 },
 "nbformat": 4,
 "nbformat_minor": 2
}
