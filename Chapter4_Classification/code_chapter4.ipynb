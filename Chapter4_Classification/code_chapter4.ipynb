{
 "cells": [
  {
   "cell_type": "code",
   "execution_count": 2,
   "metadata": {},
   "outputs": [],
   "source": [
    "import numpy as np\n",
    "import pandas as pd\n",
    "import statsmodels.api as sm\n",
    "import statsmodels.formula.api as smf\n",
    "from sklearn import linear_model\n",
    "import matplotlib.pyplot as plt"
   ]
  },
  {
   "cell_type": "code",
   "execution_count": 3,
   "metadata": {},
   "outputs": [
    {
     "name": "stdout",
     "output_type": "stream",
     "text": [
      "   Year   Lag1   Lag2   Lag3   Lag4   Lag5  Volume  Today Direction\n",
      "0  2001  0.381 -0.192 -2.624 -1.055  5.010  1.1913  0.959        Up\n",
      "1  2001  0.959  0.381 -0.192 -2.624 -1.055  1.2965  1.032        Up\n",
      "2  2001  1.032  0.959  0.381 -0.192 -2.624  1.4112 -0.623      Down\n",
      "3  2001 -0.623  1.032  0.959  0.381 -0.192  1.2760  0.614        Up\n",
      "4  2001  0.614 -0.623  1.032  0.959  0.381  1.2057  0.213        Up\n",
      "              Year         Lag1         Lag2         Lag3         Lag4  \\\n",
      "count  1250.000000  1250.000000  1250.000000  1250.000000  1250.000000   \n",
      "mean   2003.016000     0.003834     0.003919     0.001716     0.001636   \n",
      "std       1.409018     1.136299     1.136280     1.138703     1.138774   \n",
      "min    2001.000000    -4.922000    -4.922000    -4.922000    -4.922000   \n",
      "25%    2002.000000    -0.639500    -0.639500    -0.640000    -0.640000   \n",
      "50%    2003.000000     0.039000     0.039000     0.038500     0.038500   \n",
      "75%    2004.000000     0.596750     0.596750     0.596750     0.596750   \n",
      "max    2005.000000     5.733000     5.733000     5.733000     5.733000   \n",
      "\n",
      "             Lag5       Volume        Today  \n",
      "count  1250.00000  1250.000000  1250.000000  \n",
      "mean      0.00561     1.478305     0.003138  \n",
      "std       1.14755     0.360357     1.136334  \n",
      "min      -4.92200     0.356070    -4.922000  \n",
      "25%      -0.64000     1.257400    -0.639500  \n",
      "50%       0.03850     1.422950     0.038500  \n",
      "75%       0.59700     1.641675     0.596750  \n",
      "max       5.73300     3.152470     5.733000  \n"
     ]
    }
   ],
   "source": [
    "smarket_df = pd.read_csv('../Data/Smarket.csv')\n",
    "print (smarket_df.head())\n",
    "print (smarket_df.describe())"
   ]
  },
  {
   "cell_type": "code",
   "execution_count": 5,
   "metadata": {
    "scrolled": true
   },
   "outputs": [
    {
     "name": "stdout",
     "output_type": "stream",
     "text": [
      "Optimization terminated successfully.\n",
      "         Current function value: 0.691034\n",
      "         Iterations 4\n",
      "statsmodels.formula\n",
      "                           Logit Regression Results                           \n",
      "==============================================================================\n",
      "Dep. Variable:                   isUp   No. Observations:                 1250\n",
      "Model:                          Logit   Df Residuals:                     1243\n",
      "Method:                           MLE   Df Model:                            6\n",
      "Date:                Wed, 24 Oct 2018   Pseudo R-squ.:                0.002074\n",
      "Time:                        22:55:15   Log-Likelihood:                -863.79\n",
      "converged:                       True   LL-Null:                       -865.59\n",
      "                                        LLR p-value:                    0.7319\n",
      "==============================================================================\n",
      "                 coef    std err          z      P>|z|      [0.025      0.975]\n",
      "------------------------------------------------------------------------------\n",
      "Intercept     -0.1260      0.241     -0.523      0.601      -0.598       0.346\n",
      "Lag1          -0.0731      0.050     -1.457      0.145      -0.171       0.025\n",
      "Lag2          -0.0423      0.050     -0.845      0.398      -0.140       0.056\n",
      "Lag3           0.0111      0.050      0.222      0.824      -0.087       0.109\n",
      "Lag4           0.0094      0.050      0.187      0.851      -0.089       0.107\n",
      "Lag5           0.0103      0.050      0.208      0.835      -0.087       0.107\n",
      "Volume         0.1354      0.158      0.855      0.392      -0.175       0.446\n",
      "==============================================================================\n",
      "statsmodels:glm, family=Binomial\n",
      "                 Generalized Linear Model Regression Results                  \n",
      "==============================================================================\n",
      "Dep. Variable:              Direction   No. Observations:                 1250\n",
      "Model:                            GLM   Df Residuals:                     1243\n",
      "Model Family:                Binomial   Df Model:                            6\n",
      "Link Function:                  logit   Scale:                          1.0000\n",
      "Method:                          IRLS   Log-Likelihood:                -863.79\n",
      "Date:                Wed, 24 Oct 2018   Deviance:                       1727.6\n",
      "Time:                        22:55:15   Pearson chi2:                 1.25e+03\n",
      "No. Iterations:                     4   Covariance Type:             nonrobust\n",
      "==============================================================================\n",
      "                 coef    std err          z      P>|z|      [0.025      0.975]\n",
      "------------------------------------------------------------------------------\n",
      "const         -0.1260      0.241     -0.523      0.601      -0.598       0.346\n",
      "Lag1          -0.0731      0.050     -1.457      0.145      -0.171       0.025\n",
      "Lag2          -0.0423      0.050     -0.845      0.398      -0.140       0.056\n",
      "Lag3           0.0111      0.050      0.222      0.824      -0.087       0.109\n",
      "Lag4           0.0094      0.050      0.187      0.851      -0.089       0.107\n",
      "Lag5           0.0103      0.050      0.208      0.835      -0.087       0.107\n",
      "Volume         0.1354      0.158      0.855      0.392      -0.175       0.446\n",
      "==============================================================================\n",
      "Optimization terminated successfully.\n",
      "         Current function value: 0.691034\n",
      "         Iterations 4\n",
      "statsmodels:logit\n",
      "                           Logit Regression Results                           \n",
      "==============================================================================\n",
      "Dep. Variable:              Direction   No. Observations:                 1250\n",
      "Model:                          Logit   Df Residuals:                     1243\n",
      "Method:                           MLE   Df Model:                            6\n",
      "Date:                Wed, 24 Oct 2018   Pseudo R-squ.:                0.002074\n",
      "Time:                        22:55:15   Log-Likelihood:                -863.79\n",
      "converged:                       True   LL-Null:                       -865.59\n",
      "                                        LLR p-value:                    0.7319\n",
      "==============================================================================\n",
      "                 coef    std err          z      P>|z|      [0.025      0.975]\n",
      "------------------------------------------------------------------------------\n",
      "const         -0.1260      0.241     -0.523      0.601      -0.598       0.346\n",
      "Lag1          -0.0731      0.050     -1.457      0.145      -0.171       0.025\n",
      "Lag2          -0.0423      0.050     -0.845      0.398      -0.140       0.056\n",
      "Lag3           0.0111      0.050      0.222      0.824      -0.087       0.109\n",
      "Lag4           0.0094      0.050      0.187      0.851      -0.089       0.107\n",
      "Lag5           0.0103      0.050      0.208      0.835      -0.087       0.107\n",
      "Volume         0.1354      0.158      0.855      0.392      -0.175       0.446\n",
      "==============================================================================\n"
     ]
    },
    {
     "data": {
      "text/plain": [
       "' results from glm\\nCall:\\nglm(formula = Direction ~ Lag1 + Lag2 + Lag3 + Lag4 + Lag5 + \\n    Volume, family = \"binomial\", data = Smarket)\\n\\nDeviance Residuals: \\n   Min      1Q  Median      3Q     Max  \\n-1.446  -1.203   1.065   1.145   1.326  \\n\\nCoefficients:\\n             Estimate Std. Error z value Pr(>|z|)\\n(Intercept) -0.126000   0.240736  -0.523    0.601\\nLag1        -0.073074   0.050167  -1.457    0.145\\nLag2        -0.042301   0.050086  -0.845    0.398\\nLag3         0.011085   0.049939   0.222    0.824\\nLag4         0.009359   0.049974   0.187    0.851\\nLag5         0.010313   0.049511   0.208    0.835\\nVolume       0.135441   0.158360   0.855    0.392\\n\\n(Dispersion parameter for binomial family taken to be 1)\\n\\n    Null deviance: 1731.2  on 1249  degrees of freedom\\nResidual deviance: 1727.6  on 1243  degrees of freedom\\nAIC: 1741.6\\n\\nNumber of Fisher Scoring iterations: 3\\n'"
      ]
     },
     "execution_count": 5,
     "metadata": {},
     "output_type": "execute_result"
    }
   ],
   "source": [
    "### Direction ~ Log{1,2,3,4,5} + Volume\n",
    "\n",
    "### use statsmodels.formula: y can be 0/1; y cannot be Up/Down or True/False\n",
    "smarket_df['isUp'] = [1 if x == 'Up' else 0 for x in smarket_df['Direction']]\n",
    "###smf_mod = smf.logit(formula = \"Direction ~ Lag1 + Lag2 + Lag3 + Lag4 + Lag5 + Volume\", data=smarket_df) ### this one does not work\n",
    "smf_mod = smf.logit(formula = \"isUp ~ Lag1 + Lag2 + Lag3 + Lag4 + Lag5 + Volume\", data=smarket_df) ### this one works \n",
    "smf_fit = smf_mod.fit()\n",
    "smf_pred = smf_fit.predict(smarket_df[['Lag1','Lag2','Lag3','Lag4','Lag5','Volume']])\n",
    "print ('statsmodels.formula')\n",
    "print (smf_fit.summary())\n",
    "\n",
    "### use statsmodels: y can be 0/1 or True/False; y cannot be Up/Down\n",
    "x = pd.DataFrame(smarket_df[['Lag1','Lag2', 'Lag3', 'Lag4', 'Lag5', 'Volume']])\n",
    "x = sm.add_constant(x)\n",
    "##y = pd.DataFrame(smarket_df[['Direction']]) ### this one does not work\n",
    "y = pd.DataFrame(smarket_df[['Direction']])=='Up'### this one works\n",
    "### use statsmodels.GLM\n",
    "sm_mod1 = sm.GLM(y, x, family = sm.families.Binomial())\n",
    "sm_fit1 = sm_mod1.fit()\n",
    "sm_pred1 = sm_fit1.predict(x)\n",
    "print ('statsmodels:glm, family=Binomial')\n",
    "print (sm_fit1.summary())\n",
    "### use statsmodels.Logit\n",
    "sm_mod2 = sm.Logit(y, x)\n",
    "sm_fit2 = sm_mod2.fit()\n",
    "sm_pred2 = sm_fit2.predict(x)\n",
    "print ('statsmodels:logit')\n",
    "print (sm_fit2.summary())\n",
    "\n",
    "''' results from glm\n",
    "Call:\n",
    "glm(formula = Direction ~ Lag1 + Lag2 + Lag3 + Lag4 + Lag5 + \n",
    "    Volume, family = \"binomial\", data = Smarket)\n",
    "\n",
    "Deviance Residuals: \n",
    "   Min      1Q  Median      3Q     Max  \n",
    "-1.446  -1.203   1.065   1.145   1.326  \n",
    "\n",
    "Coefficients:\n",
    "             Estimate Std. Error z value Pr(>|z|)\n",
    "(Intercept) -0.126000   0.240736  -0.523    0.601\n",
    "Lag1        -0.073074   0.050167  -1.457    0.145\n",
    "Lag2        -0.042301   0.050086  -0.845    0.398\n",
    "Lag3         0.011085   0.049939   0.222    0.824\n",
    "Lag4         0.009359   0.049974   0.187    0.851\n",
    "Lag5         0.010313   0.049511   0.208    0.835\n",
    "Volume       0.135441   0.158360   0.855    0.392\n",
    "\n",
    "(Dispersion parameter for binomial family taken to be 1)\n",
    "\n",
    "    Null deviance: 1731.2  on 1249  degrees of freedom\n",
    "Residual deviance: 1727.6  on 1243  degrees of freedom\n",
    "AIC: 1741.6\n",
    "\n",
    "Number of Fisher Scoring iterations: 3\n",
    "'''"
   ]
  },
  {
   "cell_type": "code",
   "execution_count": 6,
   "metadata": {},
   "outputs": [],
   "source": [
    "### function to compute the false_positive and true_positive curve\n",
    "def myROC(prob, y, n=1000):\n",
    "    prob = pd.Series(prob)\n",
    "    y = pd.Series(y)\n",
    "    thresh_seq = np.linspace(0, 1, num=n)\n",
    "    fp_seq = np.zeros(n)\n",
    "    tp_seq = np.zeros(n)\n",
    "    for i in range(n):\n",
    "        thresh = thresh_seq[i]\n",
    "        fp_seq[i] = np.sum((y==0) & (prob > thresh))/(1.0*np.sum(y==0))\n",
    "        tp_seq[i] = np.sum((y==1) & (prob > thresh))/(1.0*np.sum(y==1))\n",
    "    return fp_seq, tp_seq"
   ]
  },
  {
   "cell_type": "code",
   "execution_count": null,
   "metadata": {},
   "outputs": [],
   "source": [
    "### be careful of the difference between ['isUp'] and [['isUp']]\n",
    "smarket_df['isUp'] = [1 if x == 'Up' else 0 for x in smarket_df['Direction']]\n",
    "print (smarket_df['isUp'].shape)\n",
    "print (smarket_df[['isUp']].shape)\n",
    "### pd.Series(smarket_df['isUp']) is ok\n",
    "### pd.Series(smarket_df[['isUp']]) is wrong"
   ]
  },
  {
   "cell_type": "code",
   "execution_count": 88,
   "metadata": {},
   "outputs": [
    {
     "data": {
      "text/plain": [
       "<matplotlib.legend.Legend at 0x1c1f8bd3c8>"
      ]
     },
     "execution_count": 88,
     "metadata": {},
     "output_type": "execute_result"
    },
    {
     "data": {
      "image/png": "[encoded data removed]",
      "text/plain": [
       "<Figure size 432x288 with 1 Axes>"
      ]
     },
     "metadata": {},
     "output_type": "display_data"
    }
   ],
   "source": [
    "y01 = pd.Series([1 if x == 'Up' else 0 for x in smarket_df['Direction']])\n",
    "fp, tp = myROC(smf_pred, y01, n=1000)\n",
    "fig, ax = plt.subplots()\n",
    "ax.plot(fp, tp, 'r-', label='ROC')\n",
    "ax.set_xlabel('false positive')\n",
    "ax.set_ylabel('true positive')\n",
    "ax.set_title('Direction ~ Lag1+Lag2+Lag3+Lag4+Lag5+Volume')\n",
    "ax.plot([-0.05, 1.05], [-0.05, 1.05], 'k--', label='x=y')\n",
    "ax.legend()"
   ]
  },
  {
   "cell_type": "code",
   "execution_count": 99,
   "metadata": {},
   "outputs": [
    {
     "name": "stdout",
     "output_type": "stream",
     "text": [
      "Optimization terminated successfully.\n",
      "         Current function value: 0.691936\n",
      "         Iterations 4\n",
      "statsmodels.formula\n",
      "                           Logit Regression Results                           \n",
      "==============================================================================\n",
      "Dep. Variable:                   isUp   No. Observations:                  998\n",
      "Model:                          Logit   Df Residuals:                      991\n",
      "Method:                           MLE   Df Model:                            6\n",
      "Date:                Sun, 21 Oct 2018   Pseudo R-squ.:                0.001562\n",
      "Time:                        19:47:51   Log-Likelihood:                -690.55\n",
      "converged:                       True   LL-Null:                       -691.63\n",
      "                                        LLR p-value:                    0.9044\n",
      "==============================================================================\n",
      "                 coef    std err          z      P>|z|      [0.025      0.975]\n",
      "------------------------------------------------------------------------------\n",
      "Intercept      0.1912      0.334      0.573      0.567      -0.463       0.845\n",
      "Lag1          -0.0542      0.052     -1.046      0.295      -0.156       0.047\n",
      "Lag2          -0.0458      0.052     -0.884      0.377      -0.147       0.056\n",
      "Lag3           0.0072      0.052      0.139      0.889      -0.094       0.108\n",
      "Lag4           0.0064      0.052      0.125      0.901      -0.095       0.108\n",
      "Lag5          -0.0042      0.051     -0.083      0.934      -0.104       0.096\n",
      "Volume        -0.1163      0.240     -0.485      0.628      -0.586       0.353\n",
      "==============================================================================\n"
     ]
    }
   ],
   "source": [
    "### use training data to fit model\n",
    "train = smarket_df['Year'] < 2005\n",
    "smf_mod_train = smf.logit(formula = \"isUp ~ Lag1 + Lag2 + Lag3 + Lag4 + Lag5 + Volume\", data=smarket_df.loc[train,:])\n",
    "smf_fit_train = smf_mod_train.fit()\n",
    "smf_pred_all = smf_fit_train.predict(smarket_df[['Lag1','Lag2','Lag3','Lag4','Lag5','Volume']])\n",
    "print ('statsmodels.formula')\n",
    "print (smf_fit_train.summary())"
   ]
  },
  {
   "cell_type": "code",
   "execution_count": 102,
   "metadata": {},
   "outputs": [
    {
     "data": {
      "text/plain": [
       "<matplotlib.legend.Legend at 0x1c1fd13400>"
      ]
     },
     "execution_count": 102,
     "metadata": {},
     "output_type": "execute_result"
    },
    {
     "data": {
      "image/png": "[encoded data removed]",
      "text/plain": [
       "<Figure size 432x288 with 1 Axes>"
      ]
     },
     "metadata": {},
     "output_type": "display_data"
    }
   ],
   "source": [
    "### plot ROC for training and testing data\n",
    "y01 = pd.Series([1 if x == 'Up' else 0 for x in smarket_df['Direction']])\n",
    "fp_train, tp_train = myROC(smf_pred_all[train], y01[train], n=1000)\n",
    "fp_test, tp_test = myROC(smf_pred_all[~train], y01[~train], n=1000)\n",
    "\n",
    "fig, ax = plt.subplots()\n",
    "ax.plot(fp_train, tp_train, 'r-', label='train ROC')\n",
    "ax.plot(fp_test, tp_test, 'b-', label='test ROC')\n",
    "ax.plot([-0.05, 1.05], [-0.05, 1.05], 'k--', label='x=y')\n",
    "ax.set_title('Direction ~ Lag1+Lag2+Lag3+Lag4+Lag5+Volume')\n",
    "ax.set_xlabel('false positive')\n",
    "ax.set_ylabel('true positive')\n",
    "ax.legend()"
   ]
  },
  {
   "cell_type": "code",
   "execution_count": 124,
   "metadata": {},
   "outputs": [
    {
     "name": "stdout",
     "output_type": "stream",
     "text": [
      "training\n",
      "Truth      Down   Up  All\n",
      "Predicted                \n",
      "Down        175  156  331\n",
      "Up          316  351  667\n",
      "All         491  507  998\n",
      "\n",
      "test\n",
      "Truth      Down   Up  All\n",
      "Predicted                \n",
      "Down         77   97  174\n",
      "Up           34   44   78\n",
      "All         111  141  252\n"
     ]
    },
    {
     "data": {
      "text/plain": [
       "' from R table\\n> table(ifelse(prob_pred[train] > 0.5, \"Up\", \"Down\"), Smarket$Direction[train])\\n      \\n       Down  Up\\n  Down  175 156\\n  Up    316 351\\n> table(ifelse(prob_pred[!train] > 0.5, \"Up\", \"Down\"), Smarket$Direction[!train])\\n      \\n       Down Up\\n  Down   77 97\\n  Up     34 44\\n'"
      ]
     },
     "execution_count": 124,
     "metadata": {},
     "output_type": "execute_result"
    }
   ],
   "source": [
    "print ('training')\n",
    "tmp_train = pd.DataFrame({'Predicted':['Up' if x > 0.5 else 'Down' for x in smf_pred_all[train]], \n",
    "                          'Truth':smarket_df.loc[train, 'Direction']})\n",
    "print (pd.crosstab(tmp_train['Predicted'], tmp_train['Truth'], margins=True))\n",
    "\n",
    "print ('\\ntest')\n",
    "tmp_test = pd.DataFrame({'Predicted':['Up' if x > 0.5 else 'Down' for x in smf_pred_all[~train]], \n",
    "                          'Truth':smarket_df.loc[~train, 'Direction']})\n",
    "print (pd.crosstab(tmp_test['Predicted'], tmp_test['Truth'], margins=True))\n",
    "\n",
    "''' from R table\n",
    "> table(ifelse(prob_pred[train] > 0.5, \"Up\", \"Down\"), Smarket$Direction[train])\n",
    "       Down  Up\n",
    "  Down  175 156\n",
    "  Up    316 351\n",
    "  \n",
    "> table(ifelse(prob_pred[!train] > 0.5, \"Up\", \"Down\"), Smarket$Direction[!train])    \n",
    "       Down Up\n",
    "  Down   77 97\n",
    "  Up     34 44\n",
    "'''"
   ]
  }
 ],
 "metadata": {
  "kernelspec": {
   "display_name": "Python 3",
   "language": "python",
   "name": "python3"
  },
  "language_info": {
   "codemirror_mode": {
    "name": "ipython",
    "version": 3
   },
   "file_extension": ".py",
   "mimetype": "text/x-python",
   "name": "python",
   "nbconvert_exporter": "python",
   "pygments_lexer": "ipython3",
   "version": "3.6.5"
  }
 },
 "nbformat": 4,
 "nbformat_minor": 2
}
